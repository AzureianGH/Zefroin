{
  "nbformat": 4,
  "nbformat_minor": 0,
  "metadata": {
    "colab": {
      "name": "Zefroin_Laucher.ipynb",
      "provenance": [],
      "authorship_tag": "ABX9TyO/r42EkJeo+ZBXIbQIvcdq",
      "include_colab_link": true
    },
    "kernelspec": {
      "name": "python3",
      "display_name": "Python 3"
    },
    "language_info": {
      "name": "python"
    }
  },
  "cells": [
    {
      "cell_type": "markdown",
      "metadata": {
        "id": "view-in-github",
        "colab_type": "text"
      },
      "source": [
        "<a href=\"https://colab.research.google.com/github/AzureianGH/Zefroin/blob/main/Zefroin_Laucher.ipynb\" target=\"_parent\"><img src=\"https://colab.research.google.com/assets/colab-badge.svg\" alt=\"Open In Colab\"/></a>"
      ]
    },
    {
      "cell_type": "code",
      "source": [
        "#@title Mount Drive\n",
        "from google.colab import drive\n",
        "drive.mount('/content/drive')\n",
        "print('Google Drive connected.')\n",
        "!mkdir '/content/drive/MyDrive/Zefroin/'"
      ],
      "metadata": {
        "colab": {
          "base_uri": "https://localhost:8080/"
        },
        "id": "Sji4wToqX8nr",
        "outputId": "7ec0f627-5d5a-4bff-94dd-20add7e6c9a7"
      },
      "execution_count": 5,
      "outputs": [
        {
          "output_type": "stream",
          "name": "stdout",
          "text": [
            "Mounted at /content/drive\n",
            "Google Drive connected.\n"
          ]
        }
      ]
    },
    {
      "cell_type": "code",
      "source": [
        "#@title Cloning Repository\n",
        "!git clone https://github.com/AzureianGH/Zefroin.git\n",
        "print(\"Cloned successfully.\")"
      ],
      "metadata": {
        "colab": {
          "base_uri": "https://localhost:8080/"
        },
        "id": "xcSXFpJzbc1V",
        "outputId": "d2d3341a-9acc-4d6c-ff9d-e63ffe91dfc8"
      },
      "execution_count": 6,
      "outputs": [
        {
          "output_type": "stream",
          "name": "stdout",
          "text": [
            "Cloning into 'Zefroin'...\n",
            "remote: Enumerating objects: 9, done.\u001b[K\n",
            "remote: Counting objects: 100% (9/9), done.\u001b[K\n",
            "remote: Compressing objects: 100% (9/9), done.\u001b[K\n",
            "remote: Total 9 (delta 0), reused 0 (delta 0), pack-reused 0\u001b[K\n",
            "Unpacking objects: 100% (9/9), done.\n",
            "Cloned successfully.\n"
          ]
        }
      ]
    },
    {
      "cell_type": "code",
      "source": [
        "#@title Clone Files to MAIN\n",
        "import shutil\n",
        " \n",
        "\n",
        "s1 = \"/content/Zefroin/basic.py\"\n",
        " \n",
        "\n",
        "d1 = \"/content/\"\n",
        "\n",
        "s2 = \"/content/Zefroin/basic.spec\"\n",
        " \n",
        "\n",
        "d2 = \"/content/\"\n",
        "\n",
        "s3 = \"/content/Zefroin/shell.py\"\n",
        " \n",
        "\n",
        "d3 = \"/content/\"\n",
        "\n",
        "s4 = \"/content/Zefroin/strings_with_arrows.py\"\n",
        " \n",
        "\n",
        "d4 = \"/content/\"\n",
        " \n",
        "\n",
        "try:\n",
        "    shutil.copy(s1, d1)\n",
        "    print(\"File copied successfully.\")\n",
        "\n",
        "    shutil.copy(s2, d2)\n",
        "    print(\"File copied successfully.\")\n",
        "\n",
        "    shutil.copy(s3, d3)\n",
        "    print(\"File copied successfully.\")\n",
        "\n",
        "    shutil.copy(s4, d4)\n",
        "    print(\"File copied successfully.\")\n",
        " \n",
        "except shutil.SameFileError:\n",
        "    print(\"Source and destination represents the same file.\")\n",
        " \n",
        "\n",
        "except PermissionError:\n",
        "    print(\"Permission denied.\")\n",
        " \n",
        "except:\n",
        "    print(\"Error occurred while copying file.\")"
      ],
      "metadata": {
        "colab": {
          "base_uri": "https://localhost:8080/"
        },
        "id": "RiTAJkzvfzg8",
        "outputId": "48fedeed-97e7-43c3-aa8c-b8552c887342"
      },
      "execution_count": 12,
      "outputs": [
        {
          "output_type": "stream",
          "name": "stdout",
          "text": [
            "File copied successfully.\n",
            "File copied successfully.\n",
            "File copied successfully.\n",
            "File copied successfully.\n"
          ]
        }
      ]
    },
    {
      "cell_type": "code",
      "source": [
        "#@title Execute ZEFROIN\n",
        "!python shell.py"
      ],
      "metadata": {
        "colab": {
          "base_uri": "https://localhost:8080/"
        },
        "id": "UlAgZVVifCvB",
        "outputId": "7b75b5b2-f5f8-4152-b49e-3c4c0d2314f2"
      },
      "execution_count": 13,
      "outputs": [
        {
          "output_type": "stream",
          "name": "stdout",
          "text": [
            "ZEFROIN VERSION 1.02\n",
            "Zefroin > 48 * 4\n",
            "192\n",
            "Zefroin > help\n",
            " statements \n",
            " statement \n",
            " expr \n",
            " comp-expr \n",
            " arith-expr \n",
            " term \n",
            " factor \n",
            " power \n",
            " call \n",
            " atomlist-expr \n",
            " if-expr \n",
            " if-expr-b \n",
            " if-expr-c \n",
            " for-expr \n",
            " while-expr \n",
            " func-def\n",
            "Zefroin > exit\n"
          ]
        }
      ]
    }
  ]
}